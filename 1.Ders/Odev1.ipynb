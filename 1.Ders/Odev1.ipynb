{
 "cells": [
  {
   "attachments": {},
   "cell_type": "markdown",
   "metadata": {},
   "source": [
    "                                                Python Veri Tipleri\n",
    "\n",
    "\n",
    "string= metinsel karakterler içeren değerlerdir. Örneğin \"Ali\",\" kayitDisiVeriler\",\"Dict\",\"33\",\"33.4\". Kısaca çift tırnak -\" \"- içerisindeki verilerdir.\n",
    "\n",
    "int= tam sayıları kapsayan sayılardır 3,4,99,-321 vs.\n",
    "\n",
    "float= ondalıklı sayılardır 2.44 , 1.99 , -2.67\n",
    "\n",
    "bool=  sadece True veya False değerlerini alabilen mantıksal veri türüdür.\n",
    "\n",
    "set= Liste, sözlük ve demet(tuple) veri türü gibi birden çok veri türünü birlikte barındıran veri tipidir. \n",
    "\n",
    "liste= [1,2,3] \n",
    "sıralı nesnelerden oluşan değerleri barındırır. Bir değişken içinde birden fazla değer barındırır ve değiştirilebilirler.\n",
    "\n",
    "tuple1= (\"ankara\",\"adana\",\"hatay\") \n",
    "listeyle benzer özellikleri vardır. Tek farklı atanan değerler değiştirilemez.\n",
    "\n",
    "sozluk= { \"abc\":12 ,\n",
    " \"def\":22 , \n",
    " \"ghj\":44}    \n",
    " bir anahtar kelime ve bir değer barındırır.\n"
   ]
  },
  {
   "attachments": {},
   "cell_type": "markdown",
   "metadata": {},
   "source": [
    "    Kodlama.io sitesinde değişken olarak kullanıldığını düşündüğünüz verileri, veri tipleriyle birlikte örneklendiriniz.\n",
    "“Kurs bul “ string değeri barındırır. İçerisinde input sayesinde arama yaparak string karşılık gelen aramalar sağlanır."
   ]
  },
  {
   "attachments": {},
   "cell_type": "markdown",
   "metadata": {},
   "source": [
    "    Kodlama.io sitesinde şart blokları kullanıldığını düşündüğünüz kısımları örneklendiriniz ve Python dilinde bu örnekleri koda dökünüz.\n",
    "\n",
    "Ödev1 sayfası içerisinde ödev gönderildiğinde veya şart sağlandığında tik oluşması"
   ]
  },
  {
   "cell_type": "code",
   "execution_count": 3,
   "metadata": {},
   "outputs": [
    {
     "name": "stdout",
     "output_type": "stream",
     "text": [
      "bitir ve devame et\n"
     ]
    }
   ],
   "source": [
    "odev=input(\"ödevi tamamladınızmı evet yada hayır yazın\").lower()\n",
    "\n",
    "if odev==\"evet\":\n",
    "    print(\"bitir ve devame et\")\n",
    "elif odev == \"hayır\":\n",
    "    print(\"ödevi yap\")\n",
    "else:\n",
    "    print(\"geçersiz eylem!!!\")"
   ]
  }
 ],
 "metadata": {
  "kernelspec": {
   "display_name": "Python 3",
   "language": "python",
   "name": "python3"
  },
  "language_info": {
   "codemirror_mode": {
    "name": "ipython",
    "version": 3
   },
   "file_extension": ".py",
   "mimetype": "text/x-python",
   "name": "python",
   "nbconvert_exporter": "python",
   "pygments_lexer": "ipython3",
   "version": "3.10.10"
  },
  "orig_nbformat": 4
 },
 "nbformat": 4,
 "nbformat_minor": 2
}
